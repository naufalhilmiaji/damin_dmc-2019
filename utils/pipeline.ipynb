{
 "cells": [
  {
   "cell_type": "code",
   "execution_count": 1,
   "metadata": {
    "ExecuteTime": {
     "end_time": "2021-01-02T13:11:35.128529Z",
     "start_time": "2021-01-02T13:11:33.247646Z"
    }
   },
   "outputs": [
    {
     "ename": "ModuleNotFoundError",
     "evalue": "No module named 'mlflow'",
     "output_type": "error",
     "traceback": [
      "\u001b[0;31m---------------------------------------------------------------------------\u001b[0m",
      "\u001b[0;31mModuleNotFoundError\u001b[0m                       Traceback (most recent call last)",
      "\u001b[0;32m<ipython-input-1-7208fbed8bd6>\u001b[0m in \u001b[0;36m<module>\u001b[0;34m\u001b[0m\n\u001b[1;32m      8\u001b[0m \u001b[0;32mimport\u001b[0m \u001b[0muuid\u001b[0m\u001b[0;34m\u001b[0m\u001b[0;34m\u001b[0m\u001b[0m\n\u001b[1;32m      9\u001b[0m \u001b[0;34m\u001b[0m\u001b[0m\n\u001b[0;32m---> 10\u001b[0;31m \u001b[0;32mimport\u001b[0m \u001b[0mmlflow\u001b[0m\u001b[0;34m\u001b[0m\u001b[0;34m\u001b[0m\u001b[0m\n\u001b[0m\u001b[1;32m     11\u001b[0m \u001b[0;32mimport\u001b[0m \u001b[0mmlflow\u001b[0m\u001b[0;34m.\u001b[0m\u001b[0msklearn\u001b[0m\u001b[0;34m\u001b[0m\u001b[0;34m\u001b[0m\u001b[0m\n\u001b[1;32m     12\u001b[0m \u001b[0;34m\u001b[0m\u001b[0m\n",
      "\u001b[0;31mModuleNotFoundError\u001b[0m: No module named 'mlflow'"
     ]
    }
   ],
   "source": [
    "from sklearn.metrics import confusion_matrix\n",
    "from sklearn.model_selection import StratifiedKFold\n",
    "from sklearn.linear_model import LogisticRegression\n",
    "from sklearn.model_selection import train_test_split\n",
    "from sklearn.metrics import f1_score\n",
    "import pandas as pd\n",
    "import numpy as np\n",
    "import uuid\n",
    "\n",
    "import mlflow\n",
    "import mlflow.sklearn\n",
    "\n",
    "import sys\n",
    "sys.path.append('..')\n",
    "from utils.ScoreFunction import score_function\n",
    "random_seed = 42\n",
    "np.random.seed(random_seed)\n",
    "mlflow.set_tracking_uri(\"mlflow-storage\")\n",
    "\n",
    "if __name__ == \"__main__\":\n",
    "    \n",
    "    data = pd.read_csv(\"../data/train.csv\",sep='|')\n",
    "    X = np.array(data.drop([\"fraud\"],axis=1))\n",
    "    y = np.array(data[\"fraud\"])\n",
    "    \n",
    "    skf = StratifiedKFold(n_splits=5)\n",
    "    scores, f1_scores = [],[]\n",
    "    for train_index, test_index in skf.split(X, y):\n",
    "        clf = LogisticRegression(random_state=random_seed)\n",
    "        clf.fit(X[train_index], y[train_index])\n",
    "        y_pred = clf.predict(X[test_index])\n",
    "        tn, fp, fn, tp = confusion_matrix(y[test_index], y_pred).ravel()\n",
    "        scores.append(score_function(tp,fp,fn,tn))\n",
    "        f1_scores.append(f1_score(y[test_index], y_pred))\n",
    "    \n",
    "    dataset_id = str(uuid.uuid4())\n",
    "    data.to_csv(\"../data/mlflow-datasets/{0}.csv\".format(dataset_id))\n",
    "    \n",
    "    with mlflow.start_run():\n",
    "        mlflow.log_param(\"dataset_id\", dataset_id)\n",
    "        \n",
    "        mean_score = np.array(scores).mean()\n",
    "        mlflow.log_metric(\"mean_score\", mean_score)\n",
    "\n",
    "        mean_f1 = np.array(f1_scores).mean()\n",
    "        mlflow.log_metric(\"mean_f1\", mean_score)\n",
    "\n",
    "        clf = LogisticRegression(random_state=random_seed)\n",
    "        clf.fit(X, y)\n",
    "        mlflow.sklearn.log_model(clf, \"model\")"
   ]
  },
  {
   "cell_type": "code",
   "execution_count": null,
   "metadata": {},
   "outputs": [],
   "source": []
  }
 ],
 "metadata": {
  "kernelspec": {
   "display_name": "Python 3",
   "language": "python",
   "name": "python3"
  },
  "language_info": {
   "codemirror_mode": {
    "name": "ipython",
    "version": 3
   },
   "file_extension": ".py",
   "mimetype": "text/x-python",
   "name": "python",
   "nbconvert_exporter": "python",
   "pygments_lexer": "ipython3",
   "version": "3.8.5"
  },
  "toc": {
   "base_numbering": 1,
   "nav_menu": {},
   "number_sections": true,
   "sideBar": true,
   "skip_h1_title": false,
   "title_cell": "Table of Contents",
   "title_sidebar": "Contents",
   "toc_cell": false,
   "toc_position": {},
   "toc_section_display": true,
   "toc_window_display": false
  }
 },
 "nbformat": 4,
 "nbformat_minor": 4
}

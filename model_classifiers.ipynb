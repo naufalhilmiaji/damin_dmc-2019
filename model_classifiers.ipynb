{
 "cells": [
  {
   "cell_type": "markdown",
   "metadata": {},
   "source": [
    "# Data Mining Cup 2019\n",
    "**Fraud Detection at Self-checkout in Retail**"
   ]
  },
  {
   "cell_type": "code",
   "execution_count": 48,
   "metadata": {
    "ExecuteTime": {
     "end_time": "2021-01-07T06:39:22.816063Z",
     "start_time": "2021-01-07T06:39:22.812944Z"
    }
   },
   "outputs": [],
   "source": [
    "import numpy as np\n",
    "import pandas as pd\n",
    "import matplotlib.pyplot as plt\n",
    "from utils.ScoreFunction import score_function\n",
    "\n",
    "from sklearn.linear_model import LogisticRegression\n",
    "from sklearn.ensemble import RandomForestClassifier\n",
    "from sklearn.model_selection import train_test_split\n",
    "from sklearn.preprocessing import MinMaxScaler\n",
    "\n",
    "from tensorflow.keras.models import Sequential\n",
    "from tensorflow.keras.layers import Dense, Activation, Flatten\n",
    "\n",
    "from sklearn.metrics import f1_score, accuracy_score, confusion_matrix, classification_report"
   ]
  },
  {
   "cell_type": "code",
   "execution_count": 19,
   "metadata": {
    "ExecuteTime": {
     "end_time": "2021-01-07T06:23:18.120182Z",
     "start_time": "2021-01-07T06:23:18.115539Z"
    }
   },
   "outputs": [],
   "source": [
    "class DataTransformer:\n",
    "    \"\"\"\n",
    "    for scaling, data transformations (new features, one-hot encoding, categorical, ...)\n",
    "    \"\"\"\n",
    "    \n",
    "    def __init__(self, scaler):\n",
    "        self.scaler = scaler\n",
    "        \n",
    "    def apply_scaler(self, df):\n",
    "        return pd.DataFrame(self.scaler.fit_transform(df.astype(np.float64)), df.index, df.columns)\n",
    "    \n",
    "    def inverse_scale(self, df):\n",
    "        df_tmp = df.copy()\n",
    "        return pd.DataFrame(self.scaler.inverse_transform(df_tmp), df_tmp.index, df_tmp.columns)\n",
    "    \n",
    "    def add_features(self,df):\n",
    "        #TODO: Choose relevant features\n",
    "        df_tmp = df.copy()\n",
    "        df_tmp['totalScanned'] = df_tmp['scannedLineItemsPerSecond']*df_tmp['totalScanTimeInSeconds']\n",
    "        df_tmp['avgTimePerScan'] = 1/df_tmp['scannedLineItemsPerSecond']\n",
    "        df_tmp['avgValuePerScan'] = df_tmp['avgTimePerScan']*df_tmp['valuePerSecond']\n",
    "        df_tmp['withoutRegisPerPosition'] = df_tmp['scansWithoutRegistration']*df_tmp['totalScanned']\n",
    "        df_tmp['quantityModsPerPosition'] = df_tmp['quantityModifications']/df_tmp['totalScanned']\n",
    "        return df_tmp\n",
    "    \n",
    "    def transform(self, df):\n",
    "        \"\"\"\n",
    "        All in one: Apply all transform methods\n",
    "            1.) addFeatures\n",
    "            2.) apply_scaler\n",
    "        \"\"\"\n",
    "        df_tmp = df.copy()\n",
    "        return self.apply_scaler(self.add_features(df_tmp))"
   ]
  },
  {
   "cell_type": "code",
   "execution_count": 20,
   "metadata": {
    "ExecuteTime": {
     "end_time": "2021-01-07T06:23:19.711737Z",
     "start_time": "2021-01-07T06:23:18.299284Z"
    }
   },
   "outputs": [],
   "source": [
    "train_df = pd.read_csv('train.csv', sep='|')\n",
    "test_df = pd.read_csv('test.csv', sep='|')\n",
    "\n",
    "scaler = MinMaxScaler()\n",
    "transformer = DataTransformer(scaler)\n",
    "\n",
    "# Adding new Features to train and test set\n",
    "train_unscaled_df = transformer.add_features(train_df)\n",
    "test_unscaled_df = transformer.add_features(test_df)\n",
    "\n",
    "train_scaled_df = transformer.apply_scaler(train_unscaled_df)\n",
    "test_scaled_df  = transformer.apply_scaler(test_unscaled_df)"
   ]
  },
  {
   "cell_type": "code",
   "execution_count": 21,
   "metadata": {
    "ExecuteTime": {
     "end_time": "2021-01-07T06:23:19.736962Z",
     "start_time": "2021-01-07T06:23:19.712999Z"
    }
   },
   "outputs": [],
   "source": [
    "train_df['totalScanned'] = train_df['scannedLineItemsPerSecond']*train_df['totalScanTimeInSeconds']\n",
    "train_df['avgTimePerScan'] = 1/train_df['scannedLineItemsPerSecond']\n",
    "train_df['avgValuePerScan'] = train_df['avgTimePerScan']*train_df['valuePerSecond']\n",
    "train_df['withoutRegisPerPosition'] = train_df['scansWithoutRegistration']*train_df['totalScanned']\n",
    "train_df['quantityModsPerPosition'] = train_df['quantityModifications']/train_df['totalScanned']\n",
    "\n",
    "test_df['totalScanned'] = test_df['scannedLineItemsPerSecond']*test_df['totalScanTimeInSeconds']\n",
    "test_df['avgTimePerScan'] = 1/test_df['scannedLineItemsPerSecond']\n",
    "test_df['avgValuePerScan'] = test_df['avgTimePerScan']*test_df['valuePerSecond']\n",
    "test_df['withoutRegisPerPosition'] = test_df['scansWithoutRegistration']*test_df['totalScanned']\n",
    "test_df['quantityModsPerPosition'] = test_df['quantityModifications']/test_df['totalScanned']"
   ]
  },
  {
   "cell_type": "code",
   "execution_count": 22,
   "metadata": {
    "ExecuteTime": {
     "end_time": "2021-01-07T06:23:20.980762Z",
     "start_time": "2021-01-07T06:23:19.738425Z"
    }
   },
   "outputs": [],
   "source": [
    "train, test = train_test_split(train_df, test_size=0.7)\n",
    "\n",
    "X_train = train_df.drop([\"fraud\"],axis=1)\n",
    "y_train = train_df[\"fraud\"]\n",
    "X_test = train_df.drop([\"fraud\"],axis=1)\n",
    "y_test = train_df[\"fraud\"]"
   ]
  },
  {
   "cell_type": "code",
   "execution_count": 23,
   "metadata": {
    "ExecuteTime": {
     "end_time": "2021-01-07T06:23:21.029584Z",
     "start_time": "2021-01-07T06:23:20.983577Z"
    }
   },
   "outputs": [
    {
     "name": "stdout",
     "output_type": "stream",
     "text": [
      "X_train dimensions: (1879, 14)\n",
      "y_train dimensions: (1879,)\n",
      "\n",
      "X_test dimensions: (1879, 14)\n",
      "y_test dimensions: (1879,)\n",
      "\n"
     ]
    }
   ],
   "source": [
    "print(f\"X_train dimensions: {X_train.shape}\")\n",
    "print(f\"y_train dimensions: {y_train.shape}\\n\")\n",
    "\n",
    "print(f\"X_test dimensions: {X_test.shape}\")\n",
    "print(f\"y_test dimensions: {y_test.shape}\\n\")"
   ]
  },
  {
   "cell_type": "code",
   "execution_count": 24,
   "metadata": {
    "ExecuteTime": {
     "end_time": "2021-01-07T06:23:21.156256Z",
     "start_time": "2021-01-07T06:23:21.032458Z"
    }
   },
   "outputs": [
    {
     "data": {
      "image/png": "[encoded data removed]",
      "text/plain": [
       "<Figure size 432x288 with 1 Axes>"
      ]
     },
     "metadata": {
      "needs_background": "light"
     },
     "output_type": "display_data"
    }
   ],
   "source": [
    "train_df['fraud'].value_counts().plot(kind='bar')\n",
    "plt.xticks([0,1], ['No Fraud', 'Fraud'])\n",
    "plt.ylabel('Count');"
   ]
  },
  {
   "cell_type": "markdown",
   "metadata": {},
   "source": [
    "## Model Classifiers"
   ]
  },
  {
   "cell_type": "code",
   "execution_count": 34,
   "metadata": {
    "ExecuteTime": {
     "end_time": "2021-01-07T06:26:58.227928Z",
     "start_time": "2021-01-07T06:26:58.225805Z"
    }
   },
   "outputs": [],
   "source": [
    "from pprint import pprint\n",
    "from sklearn.model_selection import RandomizedSearchCV\n",
    "from sklearn.model_selection import GridSearchCV"
   ]
  },
  {
   "cell_type": "code",
   "execution_count": 26,
   "metadata": {
    "ExecuteTime": {
     "end_time": "2021-01-07T06:23:23.402268Z",
     "start_time": "2021-01-07T06:23:23.395873Z"
    }
   },
   "outputs": [],
   "source": [
    "models = {1:'Logistic Regression',\n",
    "          2:'Deep Neural Network', \n",
    "          3:'Random Forest'}"
   ]
  },
  {
   "cell_type": "markdown",
   "metadata": {},
   "source": [
    "### Logistic Regression"
   ]
  },
  {
   "cell_type": "code",
   "execution_count": 30,
   "metadata": {
    "ExecuteTime": {
     "end_time": "2021-01-07T06:24:22.162532Z",
     "start_time": "2021-01-07T06:24:22.156127Z"
    }
   },
   "outputs": [
    {
     "name": "stdout",
     "output_type": "stream",
     "text": [
      "Parameters currently in use in Logistic Regression:\n",
      "\n",
      "{'C': 1.0,\n",
      " 'class_weight': None,\n",
      " 'dual': False,\n",
      " 'fit_intercept': True,\n",
      " 'intercept_scaling': 1,\n",
      " 'l1_ratio': None,\n",
      " 'max_iter': 100000,\n",
      " 'multi_class': 'auto',\n",
      " 'n_jobs': None,\n",
      " 'penalty': 'l2',\n",
      " 'random_state': None,\n",
      " 'solver': 'lbfgs',\n",
      " 'tol': 0.0001,\n",
      " 'verbose': 0,\n",
      " 'warm_start': False}\n"
     ]
    }
   ],
   "source": [
    "choice = 1\n",
    "\n",
    "if choice == 1:\n",
    "    clf = LogisticRegression(max_iter=100000)\n",
    "    print('Parameters currently in use in {}:\\n'.format(models[choice]))\n",
    "    pprint(clf.get_params())\n",
    "elif choice==2:\n",
    "    clf = RandomForestClassifier(max_depth=10, n_estimators=10, max_features=2)\n",
    "    print('Parameters currently in use in {}:\\n'.format(models[choice]))\n",
    "    pprint(clf.get_params())\n",
    "elif choice==3:\n",
    "    clf = Sequential()\n",
    "    clf.add(Dense(128, activation='relu', kernel_initializer='random_normal', input_dim=14))\n",
    "    clf.add(Dense(128, activation='relu', kernel_initializer='random_normal'))\n",
    "    clf.add(Dense(1, activation='sigmoid', kernel_initializer='random_normal'))\n",
    "    print('Parameters currently in use in {}:\\n'.format(models[choice]))\n",
    "    print(clf.summary())"
   ]
  },
  {
   "cell_type": "markdown",
   "metadata": {},
   "source": [
    "#### Randomized Search Cross Validation"
   ]
  },
  {
   "cell_type": "code",
   "execution_count": 31,
   "metadata": {
    "ExecuteTime": {
     "end_time": "2021-01-07T06:26:00.676906Z",
     "start_time": "2021-01-07T06:26:00.673124Z"
    }
   },
   "outputs": [],
   "source": [
    "if choice == 1:\n",
    "    # Create the random grid logistic regression\n",
    "    random_grid_log = {'C': [float(x) for x in np.linspace(start = 0.1, stop = 1.9, num = 10)],\n",
    "               'multi_class': ['multinomial'],\n",
    "               'solver': ['newton-cg', 'sag', 'saga', 'lbfgs'],\n",
    "               'class_weight': ['balanced', None],\n",
    "               'penalty': ['l2']}\n",
    "elif choice==2:\n",
    "    # Create the random grid Random Forest\n",
    "    random_grid_rfor = {'n_estimators': [int(x) for x in np.linspace(start = 200, stop = 1000, num = 5)],\n",
    "               'max_features': ['auto', 'sqrt'],\n",
    "               'max_depth': [20, 40, 60, 80, 100, None],\n",
    "               'min_samples_split': [2, 5, 10],\n",
    "               'min_samples_leaf': [1, 2, 4],\n",
    "               'bootstrap': [True, False]}\n",
    "elif choice==3:\n",
    "    pass"
   ]
  },
  {
   "cell_type": "code",
   "execution_count": 32,
   "metadata": {
    "ExecuteTime": {
     "end_time": "2021-01-07T06:26:09.148155Z",
     "start_time": "2021-01-07T06:26:09.144686Z"
    }
   },
   "outputs": [
    {
     "name": "stdout",
     "output_type": "stream",
     "text": [
      "{'C': [0.1,\n",
      "       0.3,\n",
      "       0.5,\n",
      "       0.7,\n",
      "       0.8999999999999999,\n",
      "       1.0999999999999999,\n",
      "       1.3,\n",
      "       1.5,\n",
      "       1.7,\n",
      "       1.9],\n",
      " 'class_weight': ['balanced', None],\n",
      " 'multi_class': ['multinomial'],\n",
      " 'penalty': ['l2'],\n",
      " 'solver': ['newton-cg', 'sag', 'saga', 'lbfgs']}\n"
     ]
    }
   ],
   "source": [
    "pprint(random_grid_log)"
   ]
  },
  {
   "cell_type": "code",
   "execution_count": 35,
   "metadata": {
    "ExecuteTime": {
     "end_time": "2021-01-07T06:29:52.160452Z",
     "start_time": "2021-01-07T06:27:03.809286Z"
    }
   },
   "outputs": [
    {
     "name": "stdout",
     "output_type": "stream",
     "text": [
      "Fitting 3 folds for each of 50 candidates, totalling 150 fits\n"
     ]
    },
    {
     "name": "stderr",
     "output_type": "stream",
     "text": [
      "[Parallel(n_jobs=1)]: Using backend SequentialBackend with 1 concurrent workers.\n",
      "[Parallel(n_jobs=1)]: Done 150 out of 150 | elapsed:  2.8min finished\n"
     ]
    },
    {
     "data": {
      "text/plain": [
       "RandomizedSearchCV(cv=3, estimator=LogisticRegression(max_iter=100000),\n",
       "                   n_iter=50,\n",
       "                   param_distributions={'C': [0.1, 0.3, 0.5, 0.7,\n",
       "                                              0.8999999999999999,\n",
       "                                              1.0999999999999999, 1.3, 1.5, 1.7,\n",
       "                                              1.9],\n",
       "                                        'class_weight': ['balanced', None],\n",
       "                                        'multi_class': ['multinomial'],\n",
       "                                        'penalty': ['l2'],\n",
       "                                        'solver': ['newton-cg', 'sag', 'saga',\n",
       "                                                   'lbfgs']},\n",
       "                   random_state=8, scoring='accuracy', verbose=1)"
      ]
     },
     "execution_count": 35,
     "metadata": {},
     "output_type": "execute_result"
    }
   ],
   "source": [
    "# Definition of the random search\n",
    "random_search_log = RandomizedSearchCV(estimator=clf,\n",
    "                                   param_distributions=random_grid_log,\n",
    "                                   n_iter=50,\n",
    "                                   scoring='accuracy',\n",
    "                                   cv=3, \n",
    "                                   verbose=1, \n",
    "                                   random_state=8)\n",
    "\n",
    "# Fit the random search model\n",
    "random_search_log.fit(X_train, y_train)"
   ]
  },
  {
   "cell_type": "code",
   "execution_count": 36,
   "metadata": {
    "ExecuteTime": {
     "end_time": "2021-01-07T06:30:04.105556Z",
     "start_time": "2021-01-07T06:30:04.102570Z"
    }
   },
   "outputs": [
    {
     "name": "stdout",
     "output_type": "stream",
     "text": [
      "The best hyperparameters from Random Search are:\n",
      "{'solver': 'newton-cg', 'penalty': 'l2', 'multi_class': 'multinomial', 'class_weight': None, 'C': 1.0999999999999999}\n",
      "\n",
      "The mean accuracy of a model with these hyperparameters is:\n",
      "0.993082837794457\n"
     ]
    }
   ],
   "source": [
    "print(\"The best hyperparameters from Random Search are:\")\n",
    "print(random_search_log.best_params_)\n",
    "print(\"\")\n",
    "print(\"The mean accuracy of a model with these hyperparameters is:\")\n",
    "print(random_search_log.best_score_)"
   ]
  },
  {
   "cell_type": "markdown",
   "metadata": {},
   "source": [
    "#### Grid Search Cross Validation"
   ]
  },
  {
   "cell_type": "code",
   "execution_count": 37,
   "metadata": {
    "ExecuteTime": {
     "end_time": "2021-01-07T06:31:55.853920Z",
     "start_time": "2021-01-07T06:31:55.849895Z"
    }
   },
   "outputs": [
    {
     "data": {
      "text/plain": [
       "{'C': [0.3,\n",
       "  0.34444444444444444,\n",
       "  0.38888888888888884,\n",
       "  0.4333333333333333,\n",
       "  0.47777777777777775,\n",
       "  0.5222222222222221,\n",
       "  0.5666666666666667,\n",
       "  0.611111111111111,\n",
       "  0.6555555555555554,\n",
       "  0.7],\n",
       " 'multi_class': ['multinomial'],\n",
       " 'solver': ['sag'],\n",
       " 'class_weight': ['balanced']}"
      ]
     },
     "execution_count": 37,
     "metadata": {},
     "output_type": "execute_result"
    }
   ],
   "source": [
    "# Create the parameter grid based on the results of random search \n",
    "param_grid_log = {'C': [float(x) for x in np.linspace(start = 0.3, stop = 0.7, num = 10)],\n",
    "               'multi_class': ['multinomial'],\n",
    "               'solver': ['sag'],\n",
    "               'class_weight': ['balanced']}\n",
    "\n",
    "param_grid_log\n",
    "# Create a base model\n",
    "# clf_log = LogisticRegression(random_state=8)"
   ]
  },
  {
   "cell_type": "code",
   "execution_count": 39,
   "metadata": {
    "ExecuteTime": {
     "end_time": "2021-01-07T06:32:44.133336Z",
     "start_time": "2021-01-07T06:32:44.131121Z"
    }
   },
   "outputs": [],
   "source": [
    "from sklearn.model_selection import ShuffleSplit"
   ]
  },
  {
   "cell_type": "code",
   "execution_count": 40,
   "metadata": {
    "ExecuteTime": {
     "end_time": "2021-01-07T06:33:41.254824Z",
     "start_time": "2021-01-07T06:32:44.762896Z"
    }
   },
   "outputs": [
    {
     "name": "stdout",
     "output_type": "stream",
     "text": [
      "Fitting 3 folds for each of 10 candidates, totalling 30 fits\n"
     ]
    },
    {
     "name": "stderr",
     "output_type": "stream",
     "text": [
      "[Parallel(n_jobs=1)]: Using backend SequentialBackend with 1 concurrent workers.\n",
      "[Parallel(n_jobs=1)]: Done  30 out of  30 | elapsed:   54.5s finished\n"
     ]
    },
    {
     "data": {
      "text/plain": [
       "GridSearchCV(cv=ShuffleSplit(n_splits=3, random_state=8, test_size=0.33, train_size=None),\n",
       "             estimator=LogisticRegression(max_iter=100000),\n",
       "             param_grid={'C': [0.3, 0.34444444444444444, 0.38888888888888884,\n",
       "                               0.4333333333333333, 0.47777777777777775,\n",
       "                               0.5222222222222221, 0.5666666666666667,\n",
       "                               0.611111111111111, 0.6555555555555554, 0.7],\n",
       "                         'class_weight': ['balanced'],\n",
       "                         'multi_class': ['multinomial'], 'solver': ['sag']},\n",
       "             scoring='accuracy', verbose=1)"
      ]
     },
     "execution_count": 40,
     "metadata": {},
     "output_type": "execute_result"
    }
   ],
   "source": [
    "# Manually create the splits in CV in order to be able to fix a random_state (GridSearchCV doesn't have that argument)\n",
    "cv_sets_log = ShuffleSplit(n_splits = 3, test_size = .33, random_state = 8)\n",
    "\n",
    "# Instantiate the grid search model\n",
    "grid_search_log = GridSearchCV(estimator=clf, \n",
    "                           param_grid=param_grid_log,\n",
    "                           scoring='accuracy',\n",
    "                           cv=cv_sets_log,\n",
    "                           verbose=1)\n",
    "\n",
    "# Fit the grid search to the data\n",
    "grid_search_log.fit(X_train, y_train)"
   ]
  },
  {
   "cell_type": "code",
   "execution_count": 41,
   "metadata": {
    "ExecuteTime": {
     "end_time": "2021-01-07T06:33:49.094326Z",
     "start_time": "2021-01-07T06:33:49.091514Z"
    },
    "scrolled": true
   },
   "outputs": [
    {
     "name": "stdout",
     "output_type": "stream",
     "text": [
      "The best hyperparameters from Grid Search are:\n",
      "{'C': 0.4333333333333333, 'class_weight': 'balanced', 'multi_class': 'multinomial', 'solver': 'sag'}\n",
      "\n",
      "The mean accuracy of a model with these hyperparameters is:\n",
      "0.9388083735909823\n"
     ]
    }
   ],
   "source": [
    "print(\"The best hyperparameters from Grid Search are:\")\n",
    "print(grid_search_log.best_params_)\n",
    "print(\"\")\n",
    "print(\"The mean accuracy of a model with these hyperparameters is:\")\n",
    "print(grid_search_log.best_score_)"
   ]
  },
  {
   "cell_type": "markdown",
   "metadata": {},
   "source": [
    "Berdasarkan hasil dari pencarian parameter terbaik dari random search dan grid search, metode random search menghasilkan rerata akurasi yang lebih baik, maka akan digunakan untuk klasifikasi."
   ]
  },
  {
   "cell_type": "code",
   "execution_count": 43,
   "metadata": {
    "ExecuteTime": {
     "end_time": "2021-01-07T06:36:13.023245Z",
     "start_time": "2021-01-07T06:36:13.020067Z"
    }
   },
   "outputs": [
    {
     "data": {
      "text/plain": [
       "LogisticRegression(C=1.0999999999999999, max_iter=100000,\n",
       "                   multi_class='multinomial', solver='newton-cg')"
      ]
     },
     "execution_count": 43,
     "metadata": {},
     "output_type": "execute_result"
    }
   ],
   "source": [
    "best_classifier_log = random_search_log.best_estimator_\n",
    "\n",
    "best_classifier_log"
   ]
  },
  {
   "cell_type": "markdown",
   "metadata": {},
   "source": [
    "#### Model Fit and Performance"
   ]
  },
  {
   "cell_type": "code",
   "execution_count": 44,
   "metadata": {
    "ExecuteTime": {
     "end_time": "2021-01-07T06:37:03.773667Z",
     "start_time": "2021-01-07T06:37:03.412543Z"
    }
   },
   "outputs": [
    {
     "data": {
      "text/plain": [
       "LogisticRegression(C=1.0999999999999999, max_iter=100000,\n",
       "                   multi_class='multinomial', solver='newton-cg')"
      ]
     },
     "execution_count": 44,
     "metadata": {},
     "output_type": "execute_result"
    }
   ],
   "source": [
    "best_classifier_log.fit(X_train, y_train)"
   ]
  },
  {
   "cell_type": "code",
   "execution_count": 45,
   "metadata": {
    "ExecuteTime": {
     "end_time": "2021-01-07T06:37:56.256930Z",
     "start_time": "2021-01-07T06:37:56.244299Z"
    }
   },
   "outputs": [],
   "source": [
    "clf_pred_log = best_classifier_log.predict(X_test)"
   ]
  },
  {
   "cell_type": "code",
   "execution_count": 57,
   "metadata": {
    "ExecuteTime": {
     "end_time": "2021-01-07T06:47:36.759594Z",
     "start_time": "2021-01-07T06:47:36.752204Z"
    },
    "scrolled": true
   },
   "outputs": [
    {
     "name": "stdout",
     "output_type": "stream",
     "text": [
      "Logistic Regression Classification Report\n",
      "\n",
      "              precision    recall  f1-score   support\n",
      "\n",
      "           0       1.00      1.00      1.00      1775\n",
      "           1       0.95      0.94      0.95       104\n",
      "\n",
      "    accuracy                           0.99      1879\n",
      "   macro avg       0.97      0.97      0.97      1879\n",
      "weighted avg       0.99      0.99      0.99      1879\n",
      "\n"
     ]
    }
   ],
   "source": [
    "print(\"Logistic Regression Classification Report\\n\")\n",
    "print(classification_report(y_test,clf_pred_log))"
   ]
  },
  {
   "cell_type": "code",
   "execution_count": 58,
   "metadata": {
    "ExecuteTime": {
     "end_time": "2021-01-07T06:47:41.086727Z",
     "start_time": "2021-01-07T06:47:41.071302Z"
    }
   },
   "outputs": [
    {
     "data": {
      "text/html": [
       "<div>\n",
       "<style scoped>\n",
       "    .dataframe tbody tr th:only-of-type {\n",
       "        vertical-align: middle;\n",
       "    }\n",
       "\n",
       "    .dataframe tbody tr th {\n",
       "        vertical-align: top;\n",
       "    }\n",
       "\n",
       "    .dataframe thead th {\n",
       "        text-align: right;\n",
       "    }\n",
       "</style>\n",
       "<table border=\"1\" class=\"dataframe\">\n",
       "  <thead>\n",
       "    <tr style=\"text-align: right;\">\n",
       "      <th></th>\n",
       "      <th>Model</th>\n",
       "      <th>Accuracy</th>\n",
       "      <th>F1 Score</th>\n",
       "      <th>DMC Score</th>\n",
       "    </tr>\n",
       "  </thead>\n",
       "  <tbody>\n",
       "    <tr>\n",
       "      <th>0</th>\n",
       "      <td>Logistic Regression</td>\n",
       "      <td>0.994146</td>\n",
       "      <td>0.94686</td>\n",
       "      <td>335</td>\n",
       "    </tr>\n",
       "  </tbody>\n",
       "</table>\n",
       "</div>"
      ],
      "text/plain": [
       "                 Model  Accuracy  F1 Score  DMC Score\n",
       "0  Logistic Regression  0.994146   0.94686        335"
      ]
     },
     "execution_count": 58,
     "metadata": {},
     "output_type": "execute_result"
    }
   ],
   "source": [
    "tn, fp, fn, tp = confusion_matrix(y_test, clf_pred_log).ravel()\n",
    "d = {\n",
    "     'Model': 'Logistic Regression',\n",
    "     'Accuracy': accuracy_score(y_train, best_classifier_log.predict(X_train)),\n",
    "     'F1 Score': f1_score(y_test, clf_pred_log),\n",
    "     'DMC Score': score_function(tp,fp,fn,tn)\n",
    "}\n",
    "\n",
    "df_models_log = pd.DataFrame(d, index=[0])\n",
    "df_models_log"
   ]
  },
  {
   "cell_type": "markdown",
   "metadata": {},
   "source": [
    "#### Confusion Matrix"
   ]
  },
  {
   "cell_type": "code",
   "execution_count": 59,
   "metadata": {
    "ExecuteTime": {
     "end_time": "2021-01-07T06:47:44.530362Z",
     "start_time": "2021-01-07T06:47:44.415633Z"
    },
    "scrolled": false
   },
   "outputs": [
    {
     "data": {
      "image/png": "[encoded data removed]",
      "text/plain": [
       "<Figure size 921.6x432 with 2 Axes>"
      ]
     },
     "metadata": {
      "needs_background": "light"
     },
     "output_type": "display_data"
    }
   ],
   "source": [
    "import seaborn as sns\n",
    "\n",
    "conf_matrix = confusion_matrix(y_true=y_test, y_pred=clf_pred_log, normalize='true')\n",
    "plt.figure(figsize=(12.8,6))\n",
    "sns.heatmap(conf_matrix, \n",
    "            annot=True,\n",
    "            xticklabels=['No Fraud', 'Fraud'], \n",
    "            yticklabels=['No Fraud', 'Fraud'],\n",
    "            cmap=\"Blues\")\n",
    "plt.ylabel('Predicted')\n",
    "plt.xlabel('Actual')\n",
    "plt.title('Confusion matrix')\n",
    "plt.show()"
   ]
  },
  {
   "cell_type": "markdown",
   "metadata": {},
   "source": [
    "### Random Forest"
   ]
  },
  {
   "cell_type": "code",
   "execution_count": 60,
   "metadata": {
    "ExecuteTime": {
     "end_time": "2021-01-07T06:48:55.750290Z",
     "start_time": "2021-01-07T06:48:55.743533Z"
    }
   },
   "outputs": [
    {
     "name": "stdout",
     "output_type": "stream",
     "text": [
      "Parameters currently in use in Deep Neural Network:\n",
      "\n",
      "{'bootstrap': True,\n",
      " 'ccp_alpha': 0.0,\n",
      " 'class_weight': None,\n",
      " 'criterion': 'gini',\n",
      " 'max_depth': 10,\n",
      " 'max_features': 2,\n",
      " 'max_leaf_nodes': None,\n",
      " 'max_samples': None,\n",
      " 'min_impurity_decrease': 0.0,\n",
      " 'min_impurity_split': None,\n",
      " 'min_samples_leaf': 1,\n",
      " 'min_samples_split': 2,\n",
      " 'min_weight_fraction_leaf': 0.0,\n",
      " 'n_estimators': 10,\n",
      " 'n_jobs': None,\n",
      " 'oob_score': False,\n",
      " 'random_state': None,\n",
      " 'verbose': 0,\n",
      " 'warm_start': False}\n"
     ]
    }
   ],
   "source": [
    "choice = 2\n",
    "\n",
    "if choice == 1:\n",
    "    clf = LogisticRegression(max_iter=100000)\n",
    "    print('Parameters currently in use in {}:\\n'.format(models[choice]))\n",
    "    pprint(clf.get_params())\n",
    "elif choice==2:\n",
    "    clf = RandomForestClassifier(max_depth=10, n_estimators=10, max_features=2)\n",
    "    print('Parameters currently in use in {}:\\n'.format(models[choice]))\n",
    "    pprint(clf.get_params())\n",
    "elif choice==3:\n",
    "    clf = Sequential()\n",
    "    clf.add(Dense(128, activation='relu', kernel_initializer='random_normal', input_dim=14))\n",
    "    clf.add(Dense(128, activation='relu', kernel_initializer='random_normal'))\n",
    "    clf.add(Dense(1, activation='sigmoid', kernel_initializer='random_normal'))\n",
    "    print('Parameters currently in use in {}:\\n'.format(models[choice]))\n",
    "    print(clf.summary())"
   ]
  },
  {
   "cell_type": "markdown",
   "metadata": {},
   "source": [
    "#### Randomized Search Cross Validation"
   ]
  },
  {
   "cell_type": "code",
   "execution_count": 61,
   "metadata": {
    "ExecuteTime": {
     "end_time": "2021-01-07T06:49:36.614777Z",
     "start_time": "2021-01-07T06:49:36.607856Z"
    }
   },
   "outputs": [],
   "source": [
    "if choice == 1:\n",
    "    # Create the random grid logistic regression\n",
    "    random_grid_log = {'C': [float(x) for x in np.linspace(start = 0.1, stop = 1.9, num = 10)],\n",
    "               'multi_class': ['multinomial'],\n",
    "               'solver': ['newton-cg', 'sag', 'saga', 'lbfgs'],\n",
    "               'class_weight': ['balanced', None],\n",
    "               'penalty': ['l2']}\n",
    "elif choice==2:\n",
    "    # Create the random grid Random Forest\n",
    "    random_grid_rfor = {'n_estimators': [int(x) for x in np.linspace(start = 200, stop = 1000, num = 5)],\n",
    "               'max_features': ['auto', 'sqrt'],\n",
    "               'max_depth': [20, 40, 60, 80, 100, None],\n",
    "               'min_samples_split': [2, 5, 10],\n",
    "               'min_samples_leaf': [1, 2, 4],\n",
    "               'bootstrap': [True, False]}\n",
    "elif choice==3:\n",
    "    pass"
   ]
  },
  {
   "cell_type": "code",
   "execution_count": 63,
   "metadata": {
    "ExecuteTime": {
     "end_time": "2021-01-07T06:49:54.731523Z",
     "start_time": "2021-01-07T06:49:54.728898Z"
    }
   },
   "outputs": [
    {
     "name": "stdout",
     "output_type": "stream",
     "text": [
      "{'bootstrap': [True, False],\n",
      " 'max_depth': [20, 40, 60, 80, 100, None],\n",
      " 'max_features': ['auto', 'sqrt'],\n",
      " 'min_samples_leaf': [1, 2, 4],\n",
      " 'min_samples_split': [2, 5, 10],\n",
      " 'n_estimators': [200, 400, 600, 800, 1000]}\n"
     ]
    }
   ],
   "source": [
    "pprint(random_grid_rfor)"
   ]
  },
  {
   "cell_type": "code",
   "execution_count": 64,
   "metadata": {
    "ExecuteTime": {
     "end_time": "2021-01-07T06:55:09.708366Z",
     "start_time": "2021-01-07T06:52:39.336807Z"
    }
   },
   "outputs": [
    {
     "name": "stdout",
     "output_type": "stream",
     "text": [
      "Fitting 3 folds for each of 50 candidates, totalling 150 fits\n"
     ]
    },
    {
     "name": "stderr",
     "output_type": "stream",
     "text": [
      "[Parallel(n_jobs=1)]: Using backend SequentialBackend with 1 concurrent workers.\n",
      "[Parallel(n_jobs=1)]: Done 150 out of 150 | elapsed:  2.5min finished\n"
     ]
    },
    {
     "data": {
      "text/plain": [
       "RandomizedSearchCV(cv=3,\n",
       "                   estimator=RandomForestClassifier(max_depth=10,\n",
       "                                                    max_features=2,\n",
       "                                                    n_estimators=10),\n",
       "                   n_iter=50,\n",
       "                   param_distributions={'bootstrap': [True, False],\n",
       "                                        'max_depth': [20, 40, 60, 80, 100,\n",
       "                                                      None],\n",
       "                                        'max_features': ['auto', 'sqrt'],\n",
       "                                        'min_samples_leaf': [1, 2, 4],\n",
       "                                        'min_samples_split': [2, 5, 10],\n",
       "                                        'n_estimators': [200, 400, 600, 800,\n",
       "                                                         1000]},\n",
       "                   random_state=8, scoring='accuracy', verbose=1)"
      ]
     },
     "execution_count": 64,
     "metadata": {},
     "output_type": "execute_result"
    }
   ],
   "source": [
    "# Definition of the random search\n",
    "random_search_rfor = RandomizedSearchCV(estimator=clf,\n",
    "                                   param_distributions=random_grid_rfor,\n",
    "                                   n_iter=50,\n",
    "                                   scoring='accuracy',\n",
    "                                   cv=3, \n",
    "                                   verbose=1, \n",
    "                                   random_state=8)\n",
    "\n",
    "# Fit the random search model\n",
    "random_search_rfor.fit(X_train, y_train)"
   ]
  },
  {
   "cell_type": "code",
   "execution_count": 65,
   "metadata": {
    "ExecuteTime": {
     "end_time": "2021-01-07T06:55:43.557775Z",
     "start_time": "2021-01-07T06:55:43.553312Z"
    }
   },
   "outputs": [
    {
     "name": "stdout",
     "output_type": "stream",
     "text": [
      "The best hyperparameters from Random Search are:\n",
      "{'n_estimators': 800, 'min_samples_split': 2, 'min_samples_leaf': 1, 'max_features': 'sqrt', 'max_depth': 100, 'bootstrap': False}\n",
      "\n",
      "The mean accuracy of a model with these hyperparameters is:\n",
      "0.9835007210154343\n"
     ]
    }
   ],
   "source": [
    "print(\"The best hyperparameters from Random Search are:\")\n",
    "print(random_search_rfor.best_params_)\n",
    "print(\"\")\n",
    "print(\"The mean accuracy of a model with these hyperparameters is:\")\n",
    "print(random_search_rfor.best_score_)"
   ]
  },
  {
   "cell_type": "markdown",
   "metadata": {},
   "source": [
    "#### Grid Search Cross Validation"
   ]
  },
  {
   "cell_type": "code",
   "execution_count": 67,
   "metadata": {
    "ExecuteTime": {
     "end_time": "2021-01-07T06:56:31.983884Z",
     "start_time": "2021-01-07T06:56:31.979516Z"
    }
   },
   "outputs": [
    {
     "data": {
      "text/plain": [
       "{'bootstrap': [False],\n",
       " 'max_depth': [30, 40, 50],\n",
       " 'max_features': ['sqrt'],\n",
       " 'min_samples_leaf': [1, 2, 4],\n",
       " 'min_samples_split': [5, 10, 15],\n",
       " 'n_estimators': [800]}"
      ]
     },
     "execution_count": 67,
     "metadata": {},
     "output_type": "execute_result"
    }
   ],
   "source": [
    "bootstrap = [False]\n",
    "max_depth = [30, 40, 50]\n",
    "max_features = ['sqrt']\n",
    "min_samples_leaf = [1, 2, 4]\n",
    "min_samples_split = [5, 10, 15]\n",
    "n_estimators = [800]\n",
    "\n",
    "param_grid_rfor = {\n",
    "    'bootstrap': bootstrap,\n",
    "    'max_depth': max_depth,\n",
    "    'max_features': max_features,\n",
    "    'min_samples_leaf': min_samples_leaf,\n",
    "    'min_samples_split': min_samples_split,\n",
    "    'n_estimators': n_estimators\n",
    "}\n",
    "\n",
    "param_grid_rfor"
   ]
  },
  {
   "cell_type": "code",
   "execution_count": 69,
   "metadata": {
    "ExecuteTime": {
     "end_time": "2021-01-07T06:59:12.908848Z",
     "start_time": "2021-01-07T06:57:35.483919Z"
    }
   },
   "outputs": [
    {
     "name": "stdout",
     "output_type": "stream",
     "text": [
      "Fitting 3 folds for each of 27 candidates, totalling 81 fits\n"
     ]
    },
    {
     "name": "stderr",
     "output_type": "stream",
     "text": [
      "[Parallel(n_jobs=1)]: Using backend SequentialBackend with 1 concurrent workers.\n",
      "[Parallel(n_jobs=1)]: Done  81 out of  81 | elapsed:  1.6min finished\n"
     ]
    },
    {
     "data": {
      "text/plain": [
       "GridSearchCV(cv=ShuffleSplit(n_splits=3, random_state=8, test_size=0.33, train_size=None),\n",
       "             estimator=RandomForestClassifier(max_depth=10, max_features=2,\n",
       "                                              n_estimators=10),\n",
       "             param_grid={'bootstrap': [False], 'max_depth': [30, 40, 50],\n",
       "                         'max_features': ['sqrt'],\n",
       "                         'min_samples_leaf': [1, 2, 4],\n",
       "                         'min_samples_split': [5, 10, 15],\n",
       "                         'n_estimators': [800]},\n",
       "             scoring='accuracy', verbose=1)"
      ]
     },
     "execution_count": 69,
     "metadata": {},
     "output_type": "execute_result"
    }
   ],
   "source": [
    "cv_sets_rfor = ShuffleSplit(n_splits = 3, test_size = .33, random_state = 8)\n",
    "\n",
    "# Instantiate the grid search model\n",
    "grid_search_rfor = GridSearchCV(estimator=clf, \n",
    "                           param_grid=param_grid_rfor,\n",
    "                           scoring='accuracy',\n",
    "                           cv=cv_sets_rfor,\n",
    "                           verbose=1)\n",
    "\n",
    "# Fit the grid search to the data\n",
    "grid_search_rfor.fit(X_train, y_train)"
   ]
  },
  {
   "cell_type": "code",
   "execution_count": 70,
   "metadata": {
    "ExecuteTime": {
     "end_time": "2021-01-07T06:59:14.558986Z",
     "start_time": "2021-01-07T06:59:14.555330Z"
    }
   },
   "outputs": [
    {
     "name": "stdout",
     "output_type": "stream",
     "text": [
      "The best hyperparameters from Grid Search are:\n",
      "{'bootstrap': False, 'max_depth': 40, 'max_features': 'sqrt', 'min_samples_leaf': 1, 'min_samples_split': 5, 'n_estimators': 800}\n",
      "\n",
      "The mean accuracy of a model with these hyperparameters is:\n",
      "0.9812130971551262\n"
     ]
    }
   ],
   "source": [
    "print(\"The best hyperparameters from Grid Search are:\")\n",
    "print(grid_search_rfor.best_params_)\n",
    "print(\"\")\n",
    "print(\"The mean accuracy of a model with these hyperparameters is:\")\n",
    "print(grid_search_rfor.best_score_)"
   ]
  },
  {
   "cell_type": "markdown",
   "metadata": {},
   "source": [
    "#### Model Fit and Performance"
   ]
  },
  {
   "cell_type": "code",
   "execution_count": 83,
   "metadata": {
    "ExecuteTime": {
     "end_time": "2021-01-07T07:03:52.385627Z",
     "start_time": "2021-01-07T07:03:52.379712Z"
    }
   },
   "outputs": [
    {
     "data": {
      "text/plain": [
       "RandomForestClassifier(bootstrap=False, max_depth=100, max_features='sqrt',\n",
       "                       n_estimators=800)"
      ]
     },
     "execution_count": 83,
     "metadata": {},
     "output_type": "execute_result"
    }
   ],
   "source": [
    "best_classifier_rfor = random_search_rfor.best_estimator_\n",
    "best_classifier_rfor"
   ]
  },
  {
   "cell_type": "code",
   "execution_count": 84,
   "metadata": {
    "ExecuteTime": {
     "end_time": "2021-01-07T07:03:54.649911Z",
     "start_time": "2021-01-07T07:03:53.163003Z"
    }
   },
   "outputs": [
    {
     "data": {
      "text/plain": [
       "RandomForestClassifier(bootstrap=False, max_depth=100, max_features='sqrt',\n",
       "                       n_estimators=800)"
      ]
     },
     "execution_count": 84,
     "metadata": {},
     "output_type": "execute_result"
    }
   ],
   "source": [
    "best_classifier_rfor.fit(X_train, y_train)"
   ]
  },
  {
   "cell_type": "code",
   "execution_count": 85,
   "metadata": {
    "ExecuteTime": {
     "end_time": "2021-01-07T07:03:54.780955Z",
     "start_time": "2021-01-07T07:03:54.651419Z"
    }
   },
   "outputs": [],
   "source": [
    "clf_pred_rfor = best_classifier_rfor.predict(X_test)"
   ]
  },
  {
   "cell_type": "code",
   "execution_count": 86,
   "metadata": {
    "ExecuteTime": {
     "end_time": "2021-01-07T07:03:54.788860Z",
     "start_time": "2021-01-07T07:03:54.782163Z"
    }
   },
   "outputs": [
    {
     "name": "stdout",
     "output_type": "stream",
     "text": [
      "Logistic Regression Classification Report\n",
      "\n",
      "              precision    recall  f1-score   support\n",
      "\n",
      "           0       1.00      1.00      1.00      1775\n",
      "           1       1.00      1.00      1.00       104\n",
      "\n",
      "    accuracy                           1.00      1879\n",
      "   macro avg       1.00      1.00      1.00      1879\n",
      "weighted avg       1.00      1.00      1.00      1879\n",
      "\n"
     ]
    }
   ],
   "source": [
    "print(\"Logistic Regression Classification Report\\n\")\n",
    "print(classification_report(y_test,clf_pred_rfor))"
   ]
  },
  {
   "cell_type": "code",
   "execution_count": 87,
   "metadata": {
    "ExecuteTime": {
     "end_time": "2021-01-07T07:03:54.954992Z",
     "start_time": "2021-01-07T07:03:54.789891Z"
    }
   },
   "outputs": [
    {
     "data": {
      "text/html": [
       "<div>\n",
       "<style scoped>\n",
       "    .dataframe tbody tr th:only-of-type {\n",
       "        vertical-align: middle;\n",
       "    }\n",
       "\n",
       "    .dataframe tbody tr th {\n",
       "        vertical-align: top;\n",
       "    }\n",
       "\n",
       "    .dataframe thead th {\n",
       "        text-align: right;\n",
       "    }\n",
       "</style>\n",
       "<table border=\"1\" class=\"dataframe\">\n",
       "  <thead>\n",
       "    <tr style=\"text-align: right;\">\n",
       "      <th></th>\n",
       "      <th>Model</th>\n",
       "      <th>Accuracy</th>\n",
       "      <th>F1 Score</th>\n",
       "      <th>DMC Score</th>\n",
       "    </tr>\n",
       "  </thead>\n",
       "  <tbody>\n",
       "    <tr>\n",
       "      <th>0</th>\n",
       "      <td>Random Forest</td>\n",
       "      <td>1.0</td>\n",
       "      <td>1.0</td>\n",
       "      <td>520</td>\n",
       "    </tr>\n",
       "  </tbody>\n",
       "</table>\n",
       "</div>"
      ],
      "text/plain": [
       "           Model  Accuracy  F1 Score  DMC Score\n",
       "0  Random Forest       1.0       1.0        520"
      ]
     },
     "execution_count": 87,
     "metadata": {},
     "output_type": "execute_result"
    }
   ],
   "source": [
    "tn, fp, fn, tp = confusion_matrix(y_test, clf_pred_rfor).ravel()\n",
    "d = {\n",
    "     'Model': 'Random Forest',\n",
    "     'Accuracy': accuracy_score(y_train, best_classifier_rfor.predict(X_train)),\n",
    "     'F1 Score': f1_score(y_test, clf_pred_rfor),\n",
    "     'DMC Score': score_function(tp,fp,fn,tn)\n",
    "}\n",
    "\n",
    "df_models_rfor = pd.DataFrame(d, index=[0])\n",
    "df_models_rfor"
   ]
  },
  {
   "cell_type": "markdown",
   "metadata": {},
   "source": [
    "#### Confusion Matrix"
   ]
  },
  {
   "cell_type": "code",
   "execution_count": 88,
   "metadata": {
    "ExecuteTime": {
     "end_time": "2021-01-07T07:03:55.086835Z",
     "start_time": "2021-01-07T07:03:54.956293Z"
    }
   },
   "outputs": [
    {
     "data": {
      "image/png": "[encoded data removed]",
      "text/plain": [
       "<Figure size 921.6x432 with 2 Axes>"
      ]
     },
     "metadata": {
      "needs_background": "light"
     },
     "output_type": "display_data"
    }
   ],
   "source": [
    "import seaborn as sns\n",
    "\n",
    "conf_matrix = confusion_matrix(y_true=y_test, y_pred=clf_pred_rfor, normalize='true')\n",
    "plt.figure(figsize=(12.8,6))\n",
    "sns.heatmap(conf_matrix, \n",
    "            annot=True,\n",
    "            xticklabels=['No Fraud', 'Fraud'], \n",
    "            yticklabels=['No Fraud', 'Fraud'],\n",
    "            cmap=\"Blues\")\n",
    "plt.ylabel('Predicted')\n",
    "plt.xlabel('Actual')\n",
    "plt.title('Confusion matrix')\n",
    "plt.show()"
   ]
  },
  {
   "cell_type": "markdown",
   "metadata": {},
   "source": [
    "### Deep Neural Network"
   ]
  },
  {
   "cell_type": "code",
   "execution_count": 89,
   "metadata": {
    "ExecuteTime": {
     "end_time": "2021-01-07T07:04:41.608241Z",
     "start_time": "2021-01-07T07:04:41.586456Z"
    }
   },
   "outputs": [
    {
     "name": "stdout",
     "output_type": "stream",
     "text": [
      "Parameters currently in use in Random Forest:\n",
      "\n",
      "Model: \"sequential_1\"\n",
      "_________________________________________________________________\n",
      "Layer (type)                 Output Shape              Param #   \n",
      "=================================================================\n",
      "dense_3 (Dense)              (None, 128)               1920      \n",
      "_________________________________________________________________\n",
      "dense_4 (Dense)              (None, 128)               16512     \n",
      "_________________________________________________________________\n",
      "dense_5 (Dense)              (None, 1)                 129       \n",
      "=================================================================\n",
      "Total params: 18,561\n",
      "Trainable params: 18,561\n",
      "Non-trainable params: 0\n",
      "_________________________________________________________________\n",
      "None\n"
     ]
    }
   ],
   "source": [
    "choice = 3\n",
    "\n",
    "if choice == 1:\n",
    "    clf = LogisticRegression(max_iter=100000)\n",
    "    print('Parameters currently in use in {}:\\n'.format(models[choice]))\n",
    "    pprint(clf.get_params())\n",
    "elif choice==2:\n",
    "    clf = RandomForestClassifier(max_depth=10, n_estimators=10, max_features=2)\n",
    "    print('Parameters currently in use in {}:\\n'.format(models[choice]))\n",
    "    pprint(clf.get_params())\n",
    "elif choice==3:\n",
    "    clf = Sequential()\n",
    "    clf.add(Dense(128, activation='relu', kernel_initializer='random_normal', input_dim=14))\n",
    "    clf.add(Dense(128, activation='relu', kernel_initializer='random_normal'))\n",
    "    clf.add(Dense(1, activation='sigmoid', kernel_initializer='random_normal'))\n",
    "    print('Parameters currently in use in {}:\\n'.format(models[choice]))\n",
    "    print(clf.summary())"
   ]
  },
  {
   "cell_type": "markdown",
   "metadata": {},
   "source": [
    "#### Model Fit and Performance"
   ]
  },
  {
   "cell_type": "code",
   "execution_count": 91,
   "metadata": {
    "ExecuteTime": {
     "end_time": "2021-01-07T07:05:34.085304Z",
     "start_time": "2021-01-07T07:05:21.876988Z"
    }
   },
   "outputs": [],
   "source": [
    "clf.compile(optimizer ='adam',loss='binary_crossentropy', metrics =['accuracy'])\n",
    "clf.fit(X_test, y_test, epochs=500, batch_size=32, verbose = False)\n",
    "\n",
    "clf_pred_dnn = np.array(clf.predict(X_test))"
   ]
  },
  {
   "cell_type": "code",
   "execution_count": 94,
   "metadata": {
    "ExecuteTime": {
     "end_time": "2021-01-07T07:09:44.088779Z",
     "start_time": "2021-01-07T07:09:44.076720Z"
    },
    "scrolled": true
   },
   "outputs": [
    {
     "name": "stdout",
     "output_type": "stream",
     "text": [
      "Accuracy: 0.9925492283129325\n",
      "F1 Score: 0.936936936936937\n",
      "DMC Score: 170\n"
     ]
    }
   ],
   "source": [
    "clf_pred_dnn[clf_pred_dnn>0.5] = 1\n",
    "clf_pred_dnn[clf_pred_dnn<0.5] = 0\n",
    "\n",
    "tn, fp, fn, tp = confusion_matrix(y_test, clf_pred_dnn).ravel()\n",
    "\n",
    "accuracy_score(y_test, clf_pred_dnn)\n",
    "score_function(tp,fp,fn,tn)\n",
    "f1_score(y_test, clf_pred_dnn)\n",
    "\n",
    "print(f\"Accuracy: {accuracy_score(y_test, clf_pred_dnn)}\")\n",
    "print(f\"F1 Score: {f1_score(y_test, clf_pred_dnn)}\")\n",
    "print(f\"DMC Score: {score_function(tp,fp,fn,tn)}\")"
   ]
  },
  {
   "cell_type": "code",
   "execution_count": 95,
   "metadata": {
    "ExecuteTime": {
     "end_time": "2021-01-07T07:11:58.272374Z",
     "start_time": "2021-01-07T07:11:58.261680Z"
    }
   },
   "outputs": [
    {
     "data": {
      "text/html": [
       "<div>\n",
       "<style scoped>\n",
       "    .dataframe tbody tr th:only-of-type {\n",
       "        vertical-align: middle;\n",
       "    }\n",
       "\n",
       "    .dataframe tbody tr th {\n",
       "        vertical-align: top;\n",
       "    }\n",
       "\n",
       "    .dataframe thead th {\n",
       "        text-align: right;\n",
       "    }\n",
       "</style>\n",
       "<table border=\"1\" class=\"dataframe\">\n",
       "  <thead>\n",
       "    <tr style=\"text-align: right;\">\n",
       "      <th></th>\n",
       "      <th>Model</th>\n",
       "      <th>Accuracy</th>\n",
       "      <th>F1 Score</th>\n",
       "      <th>DMC Score</th>\n",
       "    </tr>\n",
       "  </thead>\n",
       "  <tbody>\n",
       "    <tr>\n",
       "      <th>0</th>\n",
       "      <td>Deep Neural Network</td>\n",
       "      <td>0.992549</td>\n",
       "      <td>0.936937</td>\n",
       "      <td>520</td>\n",
       "    </tr>\n",
       "  </tbody>\n",
       "</table>\n",
       "</div>"
      ],
      "text/plain": [
       "                 Model  Accuracy  F1 Score  DMC Score\n",
       "0  Deep Neural Network  0.992549  0.936937        520"
      ]
     },
     "execution_count": 95,
     "metadata": {},
     "output_type": "execute_result"
    }
   ],
   "source": [
    "tn, fp, fn, tp = confusion_matrix(y_test, clf_pred_rfor).ravel()\n",
    "d = {\n",
    "     'Model': 'Deep Neural Network',\n",
    "     'Accuracy': accuracy_score(y_test, clf_pred_dnn),\n",
    "     'F1 Score': f1_score(y_test, clf_pred_dnn),\n",
    "     'DMC Score': score_function(tp,fp,fn,tn)\n",
    "}\n",
    "\n",
    "df_models_dnn = pd.DataFrame(d, index=[0])\n",
    "df_models_dnn"
   ]
  },
  {
   "cell_type": "code",
   "execution_count": 96,
   "metadata": {
    "ExecuteTime": {
     "end_time": "2021-01-07T07:14:12.186212Z",
     "start_time": "2021-01-07T07:14:12.178970Z"
    }
   },
   "outputs": [
    {
     "data": {
      "text/html": [
       "<div>\n",
       "<style scoped>\n",
       "    .dataframe tbody tr th:only-of-type {\n",
       "        vertical-align: middle;\n",
       "    }\n",
       "\n",
       "    .dataframe tbody tr th {\n",
       "        vertical-align: top;\n",
       "    }\n",
       "\n",
       "    .dataframe thead th {\n",
       "        text-align: right;\n",
       "    }\n",
       "</style>\n",
       "<table border=\"1\" class=\"dataframe\">\n",
       "  <thead>\n",
       "    <tr style=\"text-align: right;\">\n",
       "      <th></th>\n",
       "      <th>Model</th>\n",
       "      <th>Accuracy</th>\n",
       "      <th>F1 Score</th>\n",
       "      <th>DMC Score</th>\n",
       "    </tr>\n",
       "  </thead>\n",
       "  <tbody>\n",
       "    <tr>\n",
       "      <th>0</th>\n",
       "      <td>Logistic Regression</td>\n",
       "      <td>0.994146</td>\n",
       "      <td>0.94686</td>\n",
       "      <td>335</td>\n",
       "    </tr>\n",
       "  </tbody>\n",
       "</table>\n",
       "</div>"
      ],
      "text/plain": [
       "                 Model  Accuracy  F1 Score  DMC Score\n",
       "0  Logistic Regression  0.994146   0.94686        335"
      ]
     },
     "execution_count": 96,
     "metadata": {},
     "output_type": "execute_result"
    }
   ],
   "source": [
    "df_models_log"
   ]
  },
  {
   "cell_type": "markdown",
   "metadata": {},
   "source": [
    "## Model Comparisons"
   ]
  },
  {
   "cell_type": "code",
   "execution_count": 97,
   "metadata": {
    "ExecuteTime": {
     "end_time": "2021-01-07T07:14:31.335061Z",
     "start_time": "2021-01-07T07:14:31.326991Z"
    },
    "scrolled": true
   },
   "outputs": [
    {
     "data": {
      "text/html": [
       "<div>\n",
       "<style scoped>\n",
       "    .dataframe tbody tr th:only-of-type {\n",
       "        vertical-align: middle;\n",
       "    }\n",
       "\n",
       "    .dataframe tbody tr th {\n",
       "        vertical-align: top;\n",
       "    }\n",
       "\n",
       "    .dataframe thead th {\n",
       "        text-align: right;\n",
       "    }\n",
       "</style>\n",
       "<table border=\"1\" class=\"dataframe\">\n",
       "  <thead>\n",
       "    <tr style=\"text-align: right;\">\n",
       "      <th></th>\n",
       "      <th>Model</th>\n",
       "      <th>Accuracy</th>\n",
       "      <th>F1 Score</th>\n",
       "      <th>DMC Score</th>\n",
       "    </tr>\n",
       "  </thead>\n",
       "  <tbody>\n",
       "    <tr>\n",
       "      <th>0</th>\n",
       "      <td>Logistic Regression</td>\n",
       "      <td>0.994146</td>\n",
       "      <td>0.946860</td>\n",
       "      <td>335</td>\n",
       "    </tr>\n",
       "    <tr>\n",
       "      <th>1</th>\n",
       "      <td>Random Forest</td>\n",
       "      <td>1.000000</td>\n",
       "      <td>1.000000</td>\n",
       "      <td>520</td>\n",
       "    </tr>\n",
       "    <tr>\n",
       "      <th>2</th>\n",
       "      <td>Deep Neural Network</td>\n",
       "      <td>0.992549</td>\n",
       "      <td>0.936937</td>\n",
       "      <td>520</td>\n",
       "    </tr>\n",
       "  </tbody>\n",
       "</table>\n",
       "</div>"
      ],
      "text/plain": [
       "                 Model  Accuracy  F1 Score  DMC Score\n",
       "0  Logistic Regression  0.994146  0.946860        335\n",
       "1        Random Forest  1.000000  1.000000        520\n",
       "2  Deep Neural Network  0.992549  0.936937        520"
      ]
     },
     "execution_count": 97,
     "metadata": {},
     "output_type": "execute_result"
    }
   ],
   "source": [
    "comparisons = pd.concat([df_models_log,df_models_rfor,df_models_dnn], ignore_index=True)\n",
    "comparisons"
   ]
  },
  {
   "cell_type": "code",
   "execution_count": 123,
   "metadata": {
    "ExecuteTime": {
     "end_time": "2021-01-07T13:19:56.289295Z",
     "start_time": "2021-01-07T13:19:56.261083Z"
    }
   },
   "outputs": [
    {
     "data": {
      "text/html": [
       "<div>\n",
       "<style scoped>\n",
       "    .dataframe tbody tr th:only-of-type {\n",
       "        vertical-align: middle;\n",
       "    }\n",
       "\n",
       "    .dataframe tbody tr th {\n",
       "        vertical-align: top;\n",
       "    }\n",
       "\n",
       "    .dataframe thead th {\n",
       "        text-align: right;\n",
       "    }\n",
       "</style>\n",
       "<table border=\"1\" class=\"dataframe\">\n",
       "  <thead>\n",
       "    <tr style=\"text-align: right;\">\n",
       "      <th></th>\n",
       "      <th>Model</th>\n",
       "      <th>Accuracy</th>\n",
       "      <th>F1 Score</th>\n",
       "      <th>DMC Score</th>\n",
       "    </tr>\n",
       "  </thead>\n",
       "  <tbody>\n",
       "    <tr>\n",
       "      <th>0</th>\n",
       "      <td>Logistic Regression</td>\n",
       "      <td>0.994146</td>\n",
       "      <td>0.946860</td>\n",
       "      <td>335</td>\n",
       "    </tr>\n",
       "    <tr>\n",
       "      <th>1</th>\n",
       "      <td>Deep Neural Network</td>\n",
       "      <td>0.992549</td>\n",
       "      <td>0.936937</td>\n",
       "      <td>520</td>\n",
       "    </tr>\n",
       "  </tbody>\n",
       "</table>\n",
       "</div>"
      ],
      "text/plain": [
       "                 Model  Accuracy  F1 Score  DMC Score\n",
       "0  Logistic Regression  0.994146  0.946860        335\n",
       "1  Deep Neural Network  0.992549  0.936937        520"
      ]
     },
     "execution_count": 123,
     "metadata": {},
     "output_type": "execute_result"
    }
   ],
   "source": [
    "comparisons_clf = pd.concat([df_models_log,df_models_dnn], ignore_index=True)\n",
    "comparisons_clf"
   ]
  },
  {
   "cell_type": "markdown",
   "metadata": {},
   "source": [
    "## Predict Unlabelled Test Data"
   ]
  },
  {
   "cell_type": "markdown",
   "metadata": {},
   "source": [
    "### Logistic Regression"
   ]
  },
  {
   "cell_type": "code",
   "execution_count": 99,
   "metadata": {
    "ExecuteTime": {
     "end_time": "2021-01-07T07:26:40.170525Z",
     "start_time": "2021-01-07T07:26:39.306059Z"
    }
   },
   "outputs": [],
   "source": [
    "pred_class_log = np.array(best_classifier_log.predict(test_df))\n",
    "df_pred_log = pd.DataFrame()\n",
    "df_pred_log['preds'] = [int(i) for i in pred_class_log]\n",
    "df_pred_log.to_csv('results/prediction_result_logreg.csv')"
   ]
  },
  {
   "cell_type": "markdown",
   "metadata": {},
   "source": [
    "### Random Forest"
   ]
  },
  {
   "cell_type": "code",
   "execution_count": 100,
   "metadata": {
    "ExecuteTime": {
     "end_time": "2021-01-07T07:27:19.046387Z",
     "start_time": "2021-01-07T07:27:00.495677Z"
    }
   },
   "outputs": [],
   "source": [
    "pred_class_rfor = np.array(best_classifier_rfor.predict(test_df))\n",
    "df_pred_rfor = pd.DataFrame()\n",
    "df_pred_rfor['preds'] = [int(i) for i in pred_class_rfor]\n",
    "df_pred_rfor.to_csv('results/prediction_result_rfor.csv')"
   ]
  },
  {
   "cell_type": "markdown",
   "metadata": {},
   "source": [
    "### Deep Neural Network"
   ]
  },
  {
   "cell_type": "code",
   "execution_count": 104,
   "metadata": {
    "ExecuteTime": {
     "end_time": "2021-01-07T07:29:57.449737Z",
     "start_time": "2021-01-07T07:29:53.154188Z"
    }
   },
   "outputs": [],
   "source": [
    "pred_class_dnn = np.array(clf.predict(test_df))\n",
    "pred_class_dnn[pred_class_dnn>0.5] = 1\n",
    "pred_class_dnn[pred_class_dnn<0.5] = 0\n",
    "\n",
    "y_pred = []\n",
    "for i in range(len(pred_class_dnn)):\n",
    "    for j in range(len(pred_class_dnn[i])):\n",
    "        temp_prediction = abs(pred_class_dnn[i][j])\n",
    "        y_pred.append(temp_prediction)\n",
    "\n",
    "df_pred_dnn = pd.DataFrame()\n",
    "df_pred_dnn['preds'] = [int(i) for i in y_pred]\n",
    "\n",
    "df_pred_dnn.to_csv('results/prediction_result_dnn.csv')"
   ]
  },
  {
   "cell_type": "markdown",
   "metadata": {},
   "source": [
    "## Evaluation on Test Data Prediction"
   ]
  },
  {
   "cell_type": "code",
   "execution_count": 105,
   "metadata": {
    "ExecuteTime": {
     "end_time": "2021-01-07T07:30:32.727109Z",
     "start_time": "2021-01-07T07:30:32.691201Z"
    }
   },
   "outputs": [],
   "source": [
    "solution = pd.read_csv('solution.csv', sep='|')"
   ]
  },
  {
   "cell_type": "markdown",
   "metadata": {},
   "source": [
    "### Logistic Regression"
   ]
  },
  {
   "cell_type": "code",
   "execution_count": 116,
   "metadata": {
    "ExecuteTime": {
     "end_time": "2021-01-07T07:34:53.536956Z",
     "start_time": "2021-01-07T07:34:53.373727Z"
    }
   },
   "outputs": [
    {
     "name": "stdout",
     "output_type": "stream",
     "text": [
      "Accuracy: 0.9909760881392272\n",
      "F1: 0.9049984148790025\n"
     ]
    }
   ],
   "source": [
    "print(f'Accuracy: {accuracy_score(solution, df_pred_log)}')\n",
    "print(f'F1: {f1_score(solution, df_pred_log)}')"
   ]
  },
  {
   "cell_type": "markdown",
   "metadata": {},
   "source": [
    "### Random Forest"
   ]
  },
  {
   "cell_type": "code",
   "execution_count": 117,
   "metadata": {
    "ExecuteTime": {
     "end_time": "2021-01-07T07:35:05.889192Z",
     "start_time": "2021-01-07T07:35:05.734472Z"
    }
   },
   "outputs": [
    {
     "name": "stdout",
     "output_type": "stream",
     "text": [
      "Accuracy: 0.9802899295552687\n",
      "F1: 0.7700594875638203\n"
     ]
    }
   ],
   "source": [
    "print(f'Accuracy: {accuracy_score(solution, df_pred_rfor)}')\n",
    "print(f'F1: {f1_score(solution, df_pred_rfor)}')"
   ]
  },
  {
   "cell_type": "markdown",
   "metadata": {},
   "source": [
    "### Deep Neural Network"
   ]
  },
  {
   "cell_type": "code",
   "execution_count": 118,
   "metadata": {
    "ExecuteTime": {
     "end_time": "2021-01-07T07:35:08.663282Z",
     "start_time": "2021-01-07T07:35:08.510433Z"
    }
   },
   "outputs": [
    {
     "name": "stdout",
     "output_type": "stream",
     "text": [
      "Accuracy: 0.9797318322255034\n",
      "F1: 0.8117611962561062\n"
     ]
    }
   ],
   "source": [
    "print(f'Accuracy: {accuracy_score(solution, df_pred_dnn)}')\n",
    "print(f'F1: {f1_score(solution, df_pred_dnn)}')"
   ]
  },
  {
   "cell_type": "code",
   "execution_count": 119,
   "metadata": {
    "ExecuteTime": {
     "end_time": "2021-01-07T11:40:23.536266Z",
     "start_time": "2021-01-07T11:40:23.444424Z"
    }
   },
   "outputs": [
    {
     "data": {
      "text/plain": [
       "Index(['trustLevel', 'totalScanTimeInSeconds', 'grandTotal', 'lineItemVoids',\n",
       "       'scansWithoutRegistration', 'quantityModifications',\n",
       "       'scannedLineItemsPerSecond', 'valuePerSecond',\n",
       "       'lineItemVoidsPerPosition', 'fraud'],\n",
       "      dtype='object')"
      ]
     },
     "execution_count": 119,
     "metadata": {},
     "output_type": "execute_result"
    }
   ],
   "source": [
    "xcvzx = pd.read_csv('train.csv', sep='|')\n",
    "xcvzx.columns"
   ]
  },
  {
   "cell_type": "code",
   "execution_count": 122,
   "metadata": {
    "ExecuteTime": {
     "end_time": "2021-01-07T11:48:57.490711Z",
     "start_time": "2021-01-07T11:48:57.488238Z"
    }
   },
   "outputs": [
    {
     "data": {
      "text/plain": [
       "10"
      ]
     },
     "execution_count": 122,
     "metadata": {},
     "output_type": "execute_result"
    }
   ],
   "source": [
    "len(xcvzx.columns)"
   ]
  },
  {
   "cell_type": "code",
   "execution_count": 120,
   "metadata": {
    "ExecuteTime": {
     "end_time": "2021-01-07T11:48:29.765220Z",
     "start_time": "2021-01-07T11:48:29.753134Z"
    }
   },
   "outputs": [
    {
     "data": {
      "text/plain": [
       "Index(['trustLevel', 'totalScanTimeInSeconds', 'grandTotal', 'lineItemVoids',\n",
       "       'scansWithoutRegistration', 'quantityModifications',\n",
       "       'scannedLineItemsPerSecond', 'valuePerSecond',\n",
       "       'lineItemVoidsPerPosition', 'fraud', 'totalScanned', 'avgTimePerScan',\n",
       "       'avgValuePerScan', 'withoutRegisPerPosition',\n",
       "       'quantityModsPerPosition'],\n",
       "      dtype='object')"
      ]
     },
     "execution_count": 120,
     "metadata": {},
     "output_type": "execute_result"
    }
   ],
   "source": [
    "train_df.columns"
   ]
  },
  {
   "cell_type": "code",
   "execution_count": 121,
   "metadata": {
    "ExecuteTime": {
     "end_time": "2021-01-07T11:48:39.861344Z",
     "start_time": "2021-01-07T11:48:39.858584Z"
    }
   },
   "outputs": [
    {
     "data": {
      "text/plain": [
       "15"
      ]
     },
     "execution_count": 121,
     "metadata": {},
     "output_type": "execute_result"
    }
   ],
   "source": [
    "len(train_df.columns)"
   ]
  },
  {
   "cell_type": "code",
   "execution_count": null,
   "metadata": {},
   "outputs": [],
   "source": []
  }
 ],
 "metadata": {
  "kernelspec": {
   "display_name": "Python 3",
   "language": "python",
   "name": "python3"
  },
  "language_info": {
   "codemirror_mode": {
    "name": "ipython",
    "version": 3
   },
   "file_extension": ".py",
   "mimetype": "text/x-python",
   "name": "python",
   "nbconvert_exporter": "python",
   "pygments_lexer": "ipython3",
   "version": "3.8.5"
  },
  "toc": {
   "base_numbering": 1,
   "nav_menu": {},
   "number_sections": true,
   "sideBar": true,
   "skip_h1_title": false,
   "title_cell": "Table of Contents",
   "title_sidebar": "Contents",
   "toc_cell": false,
   "toc_position": {
    "height": "calc(100% - 180px)",
    "left": "10px",
    "top": "150px",
    "width": "384px"
   },
   "toc_section_display": true,
   "toc_window_display": true
  }
 },
 "nbformat": 4,
 "nbformat_minor": 4
}
